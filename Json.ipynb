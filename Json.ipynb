{
  "nbformat": 4,
  "nbformat_minor": 0,
  "metadata": {
    "colab": {
      "name": "Untitled4.ipynb",
      "provenance": [],
      "collapsed_sections": [],
      "authorship_tag": "ABX9TyPrBCm+bm4M+nvIeHfSXSh4",
      "include_colab_link": true
    },
    "kernelspec": {
      "name": "python3",
      "display_name": "Python 3"
    }
  },
  "cells": [
    {
      "cell_type": "markdown",
      "metadata": {
        "id": "view-in-github",
        "colab_type": "text"
      },
      "source": [
        "<a href=\"https://colab.research.google.com/github/k0inwork/colabs/blob/main/Json.ipynb\" target=\"_parent\"><img src=\"https://colab.research.google.com/assets/colab-badge.svg\" alt=\"Open In Colab\"/></a>"
      ]
    },
    {
      "cell_type": "code",
      "metadata": {
        "id": "NFUTi5gNM6J4",
        "colab": {
          "base_uri": "https://localhost:8080/"
        },
        "outputId": "bb9d4069-27bb-4647-a9cd-91ba55d67af0"
      },
      "source": [
        "from google.colab import drive\n",
        "drive.mount('/content/drive')\n"
      ],
      "execution_count": null,
      "outputs": [
        {
          "output_type": "stream",
          "text": [
            "Drive already mounted at /content/drive; to attempt to forcibly remount, call drive.mount(\"/content/drive\", force_remount=True).\n"
          ],
          "name": "stdout"
        }
      ]
    },
    {
      "cell_type": "code",
      "metadata": {
        "id": "nthtl3Ooci_Y",
        "colab": {
          "base_uri": "https://localhost:8080/"
        },
        "outputId": "0caf389c-c919-4985-c22c-3784f93911ab"
      },
      "source": [
        "!cp /content/drive/MyDrive/task_backend_developer_november_2020.zip .\n",
        "!unzip -o  task*.zip\n"
      ],
      "execution_count": null,
      "outputs": [
        {
          "output_type": "stream",
          "text": [
            "Archive:  task_backend_developer_november_2020.zip\n",
            "  inflating: task_folder/event/fb1a0854-9535-404d-9bdd-9ec0abb6cd6c.json  \n",
            "  inflating: task_folder/event/3ade063d-d1b9-453f-85b4-dda7bfda4711.json  \n",
            "  inflating: task_folder/event/3b4088ef-7521-4114-ac56-57c68632d431.json  \n",
            "  inflating: task_folder/event/ffe6b214-d543-40a8-8da3-deb0dc5bbd8c.json  \n",
            "  inflating: task_folder/event/e2d760c3-7e10-4464-ab22-7fda6b5e2562.json  \n",
            "  inflating: task_folder/event/ba25151c-914f-4f47-909a-7a65a6339f34.json  \n",
            "  inflating: task_folder/event/1eba2aa1-2acf-460d-91e6-55a8c3e3b7a3.json  \n",
            "  inflating: task_folder/event/cc07e442-7986-4714-8fc2-ac2256690a90.json  \n",
            "  inflating: task_folder/event/f5656ff6-29e1-46b0-8d8a-ff77f9cc0953.json  \n",
            "  inflating: task_folder/event/297e4dc6-07d1-420d-a5ae-e4aff3aedc19.json  \n",
            "  inflating: task_folder/event/bb998113-bc02-4cd1-9410-d9ae94f53eb0.json  \n",
            "  inflating: task_folder/event/2e8ffd3c-dbda-42df-9901-b7a30869511a.json  \n",
            "  inflating: task_folder/event/6b1984e5-4092-4279-9dce-bdaa831c7932.json  \n",
            "  inflating: task_folder/event/c72d21cf-1152-4d8e-b649-e198149d5bbb.json  \n",
            "  inflating: task_folder/event/29f0bfa7-bd51-4d45-93be-f6ead1ae0b96.json  \n",
            "  inflating: task_folder/event/a95d845c-8d9e-4e07-8948-275167643a40.json  \n",
            "  inflating: task_folder/schema/sleep_created.schema  \n",
            "  inflating: task_folder/schema/workout_created.schema  \n",
            "  inflating: task_folder/schema/label_selected.schema  \n",
            "  inflating: task_folder/schema/cmarker_created.schema  \n"
          ],
          "name": "stdout"
        }
      ]
    },
    {
      "cell_type": "code",
      "metadata": {
        "id": "x_vklF1-m_rm"
      },
      "source": [
        "import os,json, jsonschema\n",
        "import logging\n",
        "#logger = logging.getLogger()\n",
        "#logger.setLevel(logging.NOTSET)\n",
        "#logger.setLevel(logging.ERROR)\n",
        "logger.setLevel(logging.CRITICAL)\n",
        "\n",
        "\n",
        "#loads a json file \n",
        "def loadJson(filename):\n",
        "  with open(filename) as f:\n",
        "    try:\n",
        "      j = json.load(f)\n",
        "    except ValueError as err:\n",
        "      logger.error(\"File \"+filename+\" not found or is not a valid json file\",exc_info=err)\n",
        "      return None\n",
        "  return j\n",
        "\n",
        "#validates schema\n",
        "def validateSchema(json=j,schema=schema,filename=filename):\n",
        "  if schema is not None:\n",
        "    try:\n",
        "      jsonschema.validate(j,schema)\n",
        "    except jsonschema.ValidationError as err:\n",
        "      logger.error('For file '+filename+' schema is not valid.\\n'+err.message)\n",
        "      return False\n",
        "    except Exception as err:\n",
        "      logger.error('For file '+filename+' during validation error occured.',exc_info=err)\n",
        "      return False\n",
        "  \n",
        "  logger.log(msg=\"Valid.\",level=logging.INFO)\n",
        "  return True"
      ],
      "execution_count": null,
      "outputs": []
    },
    {
      "cell_type": "code",
      "metadata": {
        "id": "chWLDhgwj9GV"
      },
      "source": [
        "categories = [] \n",
        "catschemas = {}\n",
        "wrong=[]\n",
        "\n",
        "for cat_ in os.listdir('task_folder/schema'):\n",
        "  cat = cat_.split('.')[0]\n",
        "  filename = 'task_folder/schema/'+cat_\n",
        "  logging.log(msg=\"Loading schema for category \"+cat+\" from file \"+filename,level=logging.INFO)\n",
        "  j = loadJson(filename)\n",
        "  if j is not None:\n",
        "    catschemas[cat]=j\n",
        "    categories.append(cat)\n",
        "  else: \n",
        "    wrong.append((cat_, 'Category not loaded from file - possible wrong json'))"
      ],
      "execution_count": null,
      "outputs": []
    },
    {
      "cell_type": "code",
      "metadata": {
        "id": "0Fo7oic2dMIb"
      },
      "source": [
        "\n",
        "dir = 'task_folder/event'\n",
        "\n",
        "all = {a:[] for a in categories}\n",
        "good = {a:[] for a in categories}\n",
        "\n",
        "#wrong = []\n",
        "\n",
        "for file_ in os.listdir(dir):\n",
        "  filename = dir+'/'+file_\n",
        "  j = loadJson(filename)\n",
        "\n",
        "  if j is None:\n",
        "    wrong.append((file_,\"Not loaded (could be wrong json)\"))\n",
        " \n",
        "  else:\n",
        "\n",
        "    if j.get('event') is None:\n",
        "      logger.error(\"No event for file \"+filename+\" provided.\")\n",
        "      wrong.append((file_,\"No event category in the json\"))\n",
        "    else:\n",
        "      event = j['event']\n",
        "      logger.log(msg=\"Event is \"+event,level=logging.INFO)\n",
        "\n",
        "      if event in categories:\n",
        "        all[event].append((file_,j))\n",
        "        logger.log(msg=\"Validating schema for event\",level=logging.INFO)\n",
        "        if validateSchema(json=j,schema=catschemas[event],filename=file_):\n",
        "          good[event].append((file_,j))\n",
        "      else:\n",
        "        wrong.append((file_,\"No schema for such event category (category : \"+event+\")\"))\n"
      ],
      "execution_count": null,
      "outputs": []
    },
    {
      "cell_type": "code",
      "metadata": {
        "id": "0NLjK-Ou1JhQ"
      },
      "source": [
        ""
      ],
      "execution_count": null,
      "outputs": []
    },
    {
      "cell_type": "code",
      "metadata": {
        "id": "0me0m43v1Jr6"
      },
      "source": [
        "#search wrong schemas\n",
        "wrong_schemas = [i for i in categories if len(good[i])==0 and len(all[i])>0 ]\n",
        "\n",
        "for w_s in wrong_schemas:\n",
        "  wrong.append((w_s+\".schema\",\"No json passed the schema - could be wrong schema instead\"))\n",
        "\n",
        "#add unvalidated events for good schemas\n",
        "good_schemas = [s for s in categories if s not in wrong_schemas]\n",
        "\n",
        "for s in good_schemas:\n",
        "  bad_events = [ev for ev in all[s] if ev not in good[s]]\n",
        "  for ev in bad_events:\n",
        "    wrong.append((ev[0],\"Did not pass validation(schema : \"+s+\")\"))\n"
      ],
      "execution_count": null,
      "outputs": []
    },
    {
      "cell_type": "markdown",
      "metadata": {
        "id": "Q2KOhHgEECvp"
      },
      "source": [
        "Result of work of the script is below"
      ]
    },
    {
      "cell_type": "code",
      "metadata": {
        "colab": {
          "base_uri": "https://localhost:8080/",
          "height": 355
        },
        "id": "jWxxBJx95t5w",
        "outputId": "669635aa-315d-470c-ee7d-2b0f466114cc"
      },
      "source": [
        "import pandas as pd\n",
        "\n",
        "pd.DataFrame(columns=['File name with problem','Description'],data=[{'File name with problem':a,'Description':b} for (a,b) in wrong])\n",
        "\n",
        "#wrong"
      ],
      "execution_count": null,
      "outputs": [
        {
          "output_type": "execute_result",
          "data": {
            "text/html": [
              "<div>\n",
              "<style scoped>\n",
              "    .dataframe tbody tr th:only-of-type {\n",
              "        vertical-align: middle;\n",
              "    }\n",
              "\n",
              "    .dataframe tbody tr th {\n",
              "        vertical-align: top;\n",
              "    }\n",
              "\n",
              "    .dataframe thead th {\n",
              "        text-align: right;\n",
              "    }\n",
              "</style>\n",
              "<table border=\"1\" class=\"dataframe\">\n",
              "  <thead>\n",
              "    <tr style=\"text-align: right;\">\n",
              "      <th></th>\n",
              "      <th>File name with problem</th>\n",
              "      <th>Description</th>\n",
              "    </tr>\n",
              "  </thead>\n",
              "  <tbody>\n",
              "    <tr>\n",
              "      <th>0</th>\n",
              "      <td>2e8ffd3c-dbda-42df-9901-b7a30869511a.json</td>\n",
              "      <td>No schema for such event category (category : ...</td>\n",
              "    </tr>\n",
              "    <tr>\n",
              "      <th>1</th>\n",
              "      <td>29f0bfa7-bd51-4d45-93be-f6ead1ae0b96.json</td>\n",
              "      <td>Not loaded (could be wrong json)</td>\n",
              "    </tr>\n",
              "    <tr>\n",
              "      <th>2</th>\n",
              "      <td>a95d845c-8d9e-4e07-8948-275167643a40.json</td>\n",
              "      <td>No event category in the json</td>\n",
              "    </tr>\n",
              "    <tr>\n",
              "      <th>3</th>\n",
              "      <td>6b1984e5-4092-4279-9dce-bdaa831c7932.json</td>\n",
              "      <td>No schema for such event category (category : ...</td>\n",
              "    </tr>\n",
              "    <tr>\n",
              "      <th>4</th>\n",
              "      <td>ba25151c-914f-4f47-909a-7a65a6339f34.json</td>\n",
              "      <td>No schema for such event category (category : ...</td>\n",
              "    </tr>\n",
              "    <tr>\n",
              "      <th>5</th>\n",
              "      <td>3ade063d-d1b9-453f-85b4-dda7bfda4711.json</td>\n",
              "      <td>No schema for such event category (category : ...</td>\n",
              "    </tr>\n",
              "    <tr>\n",
              "      <th>6</th>\n",
              "      <td>c72d21cf-1152-4d8e-b649-e198149d5bbb.json</td>\n",
              "      <td>No schema for such event category (category : ...</td>\n",
              "    </tr>\n",
              "    <tr>\n",
              "      <th>7</th>\n",
              "      <td>label_selected.schema</td>\n",
              "      <td>No json passed the schema - could be wrong sch...</td>\n",
              "    </tr>\n",
              "    <tr>\n",
              "      <th>8</th>\n",
              "      <td>cmarker_created.schema</td>\n",
              "      <td>No json passed the schema - could be wrong sch...</td>\n",
              "    </tr>\n",
              "    <tr>\n",
              "      <th>9</th>\n",
              "      <td>sleep_created.schema</td>\n",
              "      <td>No json passed the schema - could be wrong sch...</td>\n",
              "    </tr>\n",
              "  </tbody>\n",
              "</table>\n",
              "</div>"
            ],
            "text/plain": [
              "                      File name with problem                                        Description\n",
              "0  2e8ffd3c-dbda-42df-9901-b7a30869511a.json  No schema for such event category (category : ...\n",
              "1  29f0bfa7-bd51-4d45-93be-f6ead1ae0b96.json                   Not loaded (could be wrong json)\n",
              "2  a95d845c-8d9e-4e07-8948-275167643a40.json                      No event category in the json\n",
              "3  6b1984e5-4092-4279-9dce-bdaa831c7932.json  No schema for such event category (category : ...\n",
              "4  ba25151c-914f-4f47-909a-7a65a6339f34.json  No schema for such event category (category : ...\n",
              "5  3ade063d-d1b9-453f-85b4-dda7bfda4711.json  No schema for such event category (category : ...\n",
              "6  c72d21cf-1152-4d8e-b649-e198149d5bbb.json  No schema for such event category (category : ...\n",
              "7                      label_selected.schema  No json passed the schema - could be wrong sch...\n",
              "8                     cmarker_created.schema  No json passed the schema - could be wrong sch...\n",
              "9                       sleep_created.schema  No json passed the schema - could be wrong sch..."
            ]
          },
          "metadata": {
            "tags": []
          },
          "execution_count": 310
        }
      ]
    },
    {
      "cell_type": "code",
      "metadata": {
        "id": "JroFyboZ9mr4"
      },
      "source": [
        ""
      ],
      "execution_count": null,
      "outputs": []
    }
  ]
}